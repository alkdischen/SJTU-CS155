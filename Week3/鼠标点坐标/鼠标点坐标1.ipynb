{
 "cells": [
  {
   "cell_type": "code",
   "execution_count": 3,
   "id": "d6ad403a",
   "metadata": {
    "scrolled": true
   },
   "outputs": [
    {
     "name": "stdout",
     "output_type": "stream",
     "text": [
      "589 483\n",
      "515 510\n",
      "450 534\n",
      "460 403\n",
      "457 356\n",
      "454 320\n",
      "458 327\n",
      "913 390\n",
      "861 399\n",
      "790 398\n",
      "742 402\n",
      "708 410\n",
      "663 412\n",
      "626 408\n",
      "615 378\n",
      "571 384\n",
      "561 405\n",
      "556 411\n",
      "524 407\n",
      "7 719\n",
      "1264 717\n"
     ]
    }
   ],
   "source": [
    "import cv2\n",
    "import numpy as np\n",
    "img = cv2.imread('f:/lane/lane_5.jpg')\n",
    "a =[]\n",
    "b = []\n",
    "def on_EVENT_LBUTTONDOWN(event, x, y,flags, param):\n",
    "    if event == cv2.EVENT_LBUTTONDOWN:\n",
    "        xy = \"%d,%d\" % (x, y)\n",
    "        a.append(x)\n",
    "        b.append(y)\n",
    "        cv2.circle(img, (x, y), 1, (255, 0, 0), thickness=-1)\n",
    "        cv2.putText(img, xy, (x, y), cv2.FONT_HERSHEY_PLAIN,\n",
    "                    2.0, (0, 0, 255), thickness=2)\n",
    "        cv2.imshow(\"image\", img)\n",
    "\n",
    "cv2.namedWindow(\"image\")\n",
    "cv2.setMouseCallback(\"image\", on_EVENT_LBUTTONDOWN)\n",
    "cv2.imshow(\"image\", img)\n",
    "cv2.waitKey(0)\n",
    "for n in range(len(a)):\n",
    "    print(a[n],b[n])\n",
    "cv2.destroyAllWindows()\n"
   ]
  },
  {
   "cell_type": "code",
   "execution_count": null,
   "id": "c7e3f12b",
   "metadata": {},
   "outputs": [],
   "source": []
  },
  {
   "cell_type": "markdown",
   "id": "32b16b57",
   "metadata": {},
   "source": [
    "sss\n",
    "#asda\n"
   ]
  },
  {
   "cell_type": "code",
   "execution_count": null,
   "id": "9a280c5f",
   "metadata": {},
   "outputs": [],
   "source": []
  },
  {
   "cell_type": "code",
   "execution_count": null,
   "id": "8d2736f2",
   "metadata": {},
   "outputs": [],
   "source": []
  },
  {
   "cell_type": "code",
   "execution_count": null,
   "id": "e88c9365",
   "metadata": {},
   "outputs": [],
   "source": []
  },
  {
   "cell_type": "markdown",
   "id": "8e5bc816",
   "metadata": {},
   "source": []
  }
 ],
 "metadata": {
  "kernelspec": {
   "display_name": "Python 3 (ipykernel)",
   "language": "python",
   "name": "python3"
  },
  "language_info": {
   "codemirror_mode": {
    "name": "ipython",
    "version": 3
   },
   "file_extension": ".py",
   "mimetype": "text/x-python",
   "name": "python",
   "nbconvert_exporter": "python",
   "pygments_lexer": "ipython3",
   "version": "3.9.13"
  }
 },
 "nbformat": 4,
 "nbformat_minor": 5
}
