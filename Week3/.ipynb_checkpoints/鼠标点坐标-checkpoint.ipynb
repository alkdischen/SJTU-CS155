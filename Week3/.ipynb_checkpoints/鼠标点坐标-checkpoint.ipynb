{
 "cells": [
  {
   "cell_type": "markdown",
   "metadata": {},
   "source": [
    "鼠标点坐标\n"
   ]
  },
  {
   "cell_type": "code",
   "execution_count": null,
   "metadata": {},
   "outputs": [],
   "source": [
    "#!/usr/bin/env python\n",
    "# coding: utf-8\n",
    "\n",
    "# In[1]:\n",
    "\n",
    "\n",
    "import cv2\n",
    "import numpy as np\n",
    "img = cv2.imread('f:\\\\lane\\\\lane.jpg')\n",
    "a =[]\n",
    "b = []\n",
    "def on_EVENT_LBUTTONDOWN(event, x, y,flags, param):\n",
    "    if event == cv2.EVENT_LBUTTONDOWN:\n",
    "        xy = \"%d,%d\" % (x, y)\n",
    "        a.append(x)\n",
    "        b.append(y)\n",
    "        cv2.circle(img, (x, y), 1, (255, 0, 0), thickness=-1)\n",
    "        cv2.putText(img, xy, (x, y), cv2.FONT_HERSHEY_PLAIN,\n",
    "                    2.0, (0, 0, 255), thickness=2)\n",
    "        cv2.imshow(\"image\", img)\n",
    "\n",
    "cv2.namedWindow(\"image\")\n",
    "cv2.setMouseCallback(\"image\", on_EVENT_LBUTTONDOWN)\n",
    "cv2.imshow(\"image\", img)\n",
    "cv2.waitKey(0)\n",
    "print(a[0],b[0])\n",
    "\n",
    "img[b[0]:b[1],a[0]:a[1],:] = 0   #注意是 行，列（y轴的，X轴）\n",
    "cv2.imshow(\"image\", img)\n",
    "cv2.waitKey(0)\n",
    "print (a,b)\n"
   ]
  },
  {
   "cell_type": "code",
   "execution_count": null,
   "metadata": {},
   "outputs": [],
   "source": []
  }
 ],
 "metadata": {
  "kernelspec": {
   "display_name": "Python 3 (ipykernel)",
   "language": "python",
   "name": "python3"
  },
  "language_info": {
   "codemirror_mode": {
    "name": "ipython",
    "version": 3
   },
   "file_extension": ".py",
   "mimetype": "text/x-python",
   "name": "python",
   "nbconvert_exporter": "python",
   "pygments_lexer": "ipython3",
   "version": "3.9.13"
  },
  "vscode": {
   "interpreter": {
    "hash": "fce00510f71edd5d54e0c864b2c9e4be22190e5fde571f67d99ce3895806ebc7"
   }
  }
 },
 "nbformat": 4,
 "nbformat_minor": 2
}
